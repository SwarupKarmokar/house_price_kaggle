{
 "cells": [
  {
   "cell_type": "code",
   "execution_count": 1,
   "metadata": {},
   "outputs": [],
   "source": [
    "import pandas as pd\n",
    "import matplotlib.pyplot as plt"
   ]
  },
  {
   "cell_type": "code",
   "execution_count": 2,
   "metadata": {},
   "outputs": [],
   "source": [
    "import torch\n",
    "import torch.nn as nn\n",
    "import torch.nn.functional as F"
   ]
  },
  {
   "cell_type": "code",
   "execution_count": 3,
   "metadata": {},
   "outputs": [],
   "source": [
    "df = pd.read_csv('train (1).csv', usecols = [\"MSSubClass\", \"MSZoning\", \"LotFrontage\", \"LotArea\", \"Street\", \"LotShape\", \"1stFlrSF\", \"2ndFlrSF\", \"YearBuilt\", \"SalePrice\"])"
   ]
  },
  {
   "cell_type": "code",
   "execution_count": 4,
   "metadata": {},
   "outputs": [
    {
     "data": {
      "text/html": [
       "<div>\n",
       "<style scoped>\n",
       "    .dataframe tbody tr th:only-of-type {\n",
       "        vertical-align: middle;\n",
       "    }\n",
       "\n",
       "    .dataframe tbody tr th {\n",
       "        vertical-align: top;\n",
       "    }\n",
       "\n",
       "    .dataframe thead th {\n",
       "        text-align: right;\n",
       "    }\n",
       "</style>\n",
       "<table border=\"1\" class=\"dataframe\">\n",
       "  <thead>\n",
       "    <tr style=\"text-align: right;\">\n",
       "      <th></th>\n",
       "      <th>MSSubClass</th>\n",
       "      <th>MSZoning</th>\n",
       "      <th>LotFrontage</th>\n",
       "      <th>LotArea</th>\n",
       "      <th>Street</th>\n",
       "      <th>LotShape</th>\n",
       "      <th>YearBuilt</th>\n",
       "      <th>1stFlrSF</th>\n",
       "      <th>2ndFlrSF</th>\n",
       "      <th>SalePrice</th>\n",
       "    </tr>\n",
       "  </thead>\n",
       "  <tbody>\n",
       "    <tr>\n",
       "      <th>0</th>\n",
       "      <td>60</td>\n",
       "      <td>RL</td>\n",
       "      <td>65.0</td>\n",
       "      <td>8450</td>\n",
       "      <td>Pave</td>\n",
       "      <td>Reg</td>\n",
       "      <td>2003</td>\n",
       "      <td>856</td>\n",
       "      <td>854</td>\n",
       "      <td>208500</td>\n",
       "    </tr>\n",
       "    <tr>\n",
       "      <th>1</th>\n",
       "      <td>20</td>\n",
       "      <td>RL</td>\n",
       "      <td>80.0</td>\n",
       "      <td>9600</td>\n",
       "      <td>Pave</td>\n",
       "      <td>Reg</td>\n",
       "      <td>1976</td>\n",
       "      <td>1262</td>\n",
       "      <td>0</td>\n",
       "      <td>181500</td>\n",
       "    </tr>\n",
       "    <tr>\n",
       "      <th>2</th>\n",
       "      <td>60</td>\n",
       "      <td>RL</td>\n",
       "      <td>68.0</td>\n",
       "      <td>11250</td>\n",
       "      <td>Pave</td>\n",
       "      <td>IR1</td>\n",
       "      <td>2001</td>\n",
       "      <td>920</td>\n",
       "      <td>866</td>\n",
       "      <td>223500</td>\n",
       "    </tr>\n",
       "    <tr>\n",
       "      <th>3</th>\n",
       "      <td>70</td>\n",
       "      <td>RL</td>\n",
       "      <td>60.0</td>\n",
       "      <td>9550</td>\n",
       "      <td>Pave</td>\n",
       "      <td>IR1</td>\n",
       "      <td>1915</td>\n",
       "      <td>961</td>\n",
       "      <td>756</td>\n",
       "      <td>140000</td>\n",
       "    </tr>\n",
       "    <tr>\n",
       "      <th>4</th>\n",
       "      <td>60</td>\n",
       "      <td>RL</td>\n",
       "      <td>84.0</td>\n",
       "      <td>14260</td>\n",
       "      <td>Pave</td>\n",
       "      <td>IR1</td>\n",
       "      <td>2000</td>\n",
       "      <td>1145</td>\n",
       "      <td>1053</td>\n",
       "      <td>250000</td>\n",
       "    </tr>\n",
       "  </tbody>\n",
       "</table>\n",
       "</div>"
      ],
      "text/plain": [
       "   MSSubClass MSZoning  LotFrontage  LotArea Street LotShape  YearBuilt  \\\n",
       "0          60       RL         65.0     8450   Pave      Reg       2003   \n",
       "1          20       RL         80.0     9600   Pave      Reg       1976   \n",
       "2          60       RL         68.0    11250   Pave      IR1       2001   \n",
       "3          70       RL         60.0     9550   Pave      IR1       1915   \n",
       "4          60       RL         84.0    14260   Pave      IR1       2000   \n",
       "\n",
       "   1stFlrSF  2ndFlrSF  SalePrice  \n",
       "0       856       854     208500  \n",
       "1      1262         0     181500  \n",
       "2       920       866     223500  \n",
       "3       961       756     140000  \n",
       "4      1145      1053     250000  "
      ]
     },
     "execution_count": 4,
     "metadata": {},
     "output_type": "execute_result"
    }
   ],
   "source": [
    "df.head()"
   ]
  },
  {
   "cell_type": "code",
   "execution_count": 5,
   "metadata": {},
   "outputs": [
    {
     "name": "stdout",
     "output_type": "stream",
     "text": [
      "<class 'pandas.core.frame.DataFrame'>\n",
      "RangeIndex: 1460 entries, 0 to 1459\n",
      "Data columns (total 10 columns):\n",
      " #   Column       Non-Null Count  Dtype  \n",
      "---  ------       --------------  -----  \n",
      " 0   MSSubClass   1460 non-null   int64  \n",
      " 1   MSZoning     1460 non-null   object \n",
      " 2   LotFrontage  1201 non-null   float64\n",
      " 3   LotArea      1460 non-null   int64  \n",
      " 4   Street       1460 non-null   object \n",
      " 5   LotShape     1460 non-null   object \n",
      " 6   YearBuilt    1460 non-null   int64  \n",
      " 7   1stFlrSF     1460 non-null   int64  \n",
      " 8   2ndFlrSF     1460 non-null   int64  \n",
      " 9   SalePrice    1460 non-null   int64  \n",
      "dtypes: float64(1), int64(6), object(3)\n",
      "memory usage: 114.2+ KB\n"
     ]
    }
   ],
   "source": [
    "df.info()"
   ]
  },
  {
   "cell_type": "code",
   "execution_count": 6,
   "metadata": {},
   "outputs": [],
   "source": [
    "df['LotFrontage'] = df['LotFrontage'].fillna(df['LotFrontage'].mean())"
   ]
  },
  {
   "cell_type": "code",
   "execution_count": 7,
   "metadata": {},
   "outputs": [
    {
     "name": "stdout",
     "output_type": "stream",
     "text": [
      "<class 'pandas.core.frame.DataFrame'>\n",
      "RangeIndex: 1460 entries, 0 to 1459\n",
      "Data columns (total 10 columns):\n",
      " #   Column       Non-Null Count  Dtype  \n",
      "---  ------       --------------  -----  \n",
      " 0   MSSubClass   1460 non-null   int64  \n",
      " 1   MSZoning     1460 non-null   object \n",
      " 2   LotFrontage  1460 non-null   float64\n",
      " 3   LotArea      1460 non-null   int64  \n",
      " 4   Street       1460 non-null   object \n",
      " 5   LotShape     1460 non-null   object \n",
      " 6   YearBuilt    1460 non-null   int64  \n",
      " 7   1stFlrSF     1460 non-null   int64  \n",
      " 8   2ndFlrSF     1460 non-null   int64  \n",
      " 9   SalePrice    1460 non-null   int64  \n",
      "dtypes: float64(1), int64(6), object(3)\n",
      "memory usage: 114.2+ KB\n"
     ]
    }
   ],
   "source": [
    "df.info()"
   ]
  },
  {
   "cell_type": "code",
   "execution_count": 8,
   "metadata": {},
   "outputs": [],
   "source": [
    "import datetime"
   ]
  },
  {
   "cell_type": "code",
   "execution_count": 9,
   "metadata": {},
   "outputs": [],
   "source": [
    "df['HouseAge'] = datetime.datetime.now().year - df['YearBuilt']"
   ]
  },
  {
   "cell_type": "code",
   "execution_count": 10,
   "metadata": {},
   "outputs": [],
   "source": [
    "df.drop('YearBuilt', axis = 1, inplace = True)"
   ]
  },
  {
   "cell_type": "code",
   "execution_count": 11,
   "metadata": {},
   "outputs": [
    {
     "data": {
      "text/html": [
       "<div>\n",
       "<style scoped>\n",
       "    .dataframe tbody tr th:only-of-type {\n",
       "        vertical-align: middle;\n",
       "    }\n",
       "\n",
       "    .dataframe tbody tr th {\n",
       "        vertical-align: top;\n",
       "    }\n",
       "\n",
       "    .dataframe thead th {\n",
       "        text-align: right;\n",
       "    }\n",
       "</style>\n",
       "<table border=\"1\" class=\"dataframe\">\n",
       "  <thead>\n",
       "    <tr style=\"text-align: right;\">\n",
       "      <th></th>\n",
       "      <th>MSSubClass</th>\n",
       "      <th>MSZoning</th>\n",
       "      <th>LotFrontage</th>\n",
       "      <th>LotArea</th>\n",
       "      <th>Street</th>\n",
       "      <th>LotShape</th>\n",
       "      <th>1stFlrSF</th>\n",
       "      <th>2ndFlrSF</th>\n",
       "      <th>SalePrice</th>\n",
       "      <th>HouseAge</th>\n",
       "    </tr>\n",
       "  </thead>\n",
       "  <tbody>\n",
       "    <tr>\n",
       "      <th>0</th>\n",
       "      <td>60</td>\n",
       "      <td>RL</td>\n",
       "      <td>65.0</td>\n",
       "      <td>8450</td>\n",
       "      <td>Pave</td>\n",
       "      <td>Reg</td>\n",
       "      <td>856</td>\n",
       "      <td>854</td>\n",
       "      <td>208500</td>\n",
       "      <td>17</td>\n",
       "    </tr>\n",
       "    <tr>\n",
       "      <th>1</th>\n",
       "      <td>20</td>\n",
       "      <td>RL</td>\n",
       "      <td>80.0</td>\n",
       "      <td>9600</td>\n",
       "      <td>Pave</td>\n",
       "      <td>Reg</td>\n",
       "      <td>1262</td>\n",
       "      <td>0</td>\n",
       "      <td>181500</td>\n",
       "      <td>44</td>\n",
       "    </tr>\n",
       "    <tr>\n",
       "      <th>2</th>\n",
       "      <td>60</td>\n",
       "      <td>RL</td>\n",
       "      <td>68.0</td>\n",
       "      <td>11250</td>\n",
       "      <td>Pave</td>\n",
       "      <td>IR1</td>\n",
       "      <td>920</td>\n",
       "      <td>866</td>\n",
       "      <td>223500</td>\n",
       "      <td>19</td>\n",
       "    </tr>\n",
       "    <tr>\n",
       "      <th>3</th>\n",
       "      <td>70</td>\n",
       "      <td>RL</td>\n",
       "      <td>60.0</td>\n",
       "      <td>9550</td>\n",
       "      <td>Pave</td>\n",
       "      <td>IR1</td>\n",
       "      <td>961</td>\n",
       "      <td>756</td>\n",
       "      <td>140000</td>\n",
       "      <td>105</td>\n",
       "    </tr>\n",
       "    <tr>\n",
       "      <th>4</th>\n",
       "      <td>60</td>\n",
       "      <td>RL</td>\n",
       "      <td>84.0</td>\n",
       "      <td>14260</td>\n",
       "      <td>Pave</td>\n",
       "      <td>IR1</td>\n",
       "      <td>1145</td>\n",
       "      <td>1053</td>\n",
       "      <td>250000</td>\n",
       "      <td>20</td>\n",
       "    </tr>\n",
       "  </tbody>\n",
       "</table>\n",
       "</div>"
      ],
      "text/plain": [
       "   MSSubClass MSZoning  LotFrontage  LotArea Street LotShape  1stFlrSF  \\\n",
       "0          60       RL         65.0     8450   Pave      Reg       856   \n",
       "1          20       RL         80.0     9600   Pave      Reg      1262   \n",
       "2          60       RL         68.0    11250   Pave      IR1       920   \n",
       "3          70       RL         60.0     9550   Pave      IR1       961   \n",
       "4          60       RL         84.0    14260   Pave      IR1      1145   \n",
       "\n",
       "   2ndFlrSF  SalePrice  HouseAge  \n",
       "0       854     208500        17  \n",
       "1         0     181500        44  \n",
       "2       866     223500        19  \n",
       "3       756     140000       105  \n",
       "4      1053     250000        20  "
      ]
     },
     "execution_count": 11,
     "metadata": {},
     "output_type": "execute_result"
    }
   ],
   "source": [
    "df.head()"
   ]
  },
  {
   "cell_type": "code",
   "execution_count": 12,
   "metadata": {},
   "outputs": [
    {
     "name": "stdout",
     "output_type": "stream",
     "text": [
      "columns: MSSubClass--------> unique_values: 15\n",
      "columns: MSZoning--------> unique_values: 5\n",
      "columns: LotFrontage--------> unique_values: 111\n",
      "columns: LotArea--------> unique_values: 1073\n",
      "columns: Street--------> unique_values: 2\n",
      "columns: LotShape--------> unique_values: 4\n",
      "columns: 1stFlrSF--------> unique_values: 753\n",
      "columns: 2ndFlrSF--------> unique_values: 417\n",
      "columns: SalePrice--------> unique_values: 663\n",
      "columns: HouseAge--------> unique_values: 112\n"
     ]
    }
   ],
   "source": [
    "for i in df.columns:\n",
    "    print(f'columns: {i}--------> unique_values: {df[i].nunique()}')"
   ]
  },
  {
   "cell_type": "code",
   "execution_count": 13,
   "metadata": {},
   "outputs": [],
   "source": [
    "category_columns = ['MSSubClass','MSZoning', 'Street', 'LotShape']\n",
    "y = ['SalePrice']"
   ]
  },
  {
   "cell_type": "code",
   "execution_count": 14,
   "metadata": {},
   "outputs": [],
   "source": [
    "continueous_columns = []\n",
    "for i in df.columns:\n",
    "    if i in category_columns:\n",
    "        pass\n",
    "    elif i in y:\n",
    "        pass\n",
    "    else:\n",
    "        continueous_columns.append(i)"
   ]
  },
  {
   "cell_type": "code",
   "execution_count": 15,
   "metadata": {},
   "outputs": [
    {
     "data": {
      "text/plain": [
       "['LotFrontage', 'LotArea', '1stFlrSF', '2ndFlrSF', 'HouseAge']"
      ]
     },
     "execution_count": 15,
     "metadata": {},
     "output_type": "execute_result"
    }
   ],
   "source": [
    "continueous_columns"
   ]
  },
  {
   "cell_type": "code",
   "execution_count": 16,
   "metadata": {},
   "outputs": [],
   "source": [
    "for i in category_columns:\n",
    "    df[i] = df[i].astype('category')"
   ]
  },
  {
   "cell_type": "code",
   "execution_count": 17,
   "metadata": {},
   "outputs": [
    {
     "name": "stdout",
     "output_type": "stream",
     "text": [
      "<class 'pandas.core.frame.DataFrame'>\n",
      "RangeIndex: 1460 entries, 0 to 1459\n",
      "Data columns (total 10 columns):\n",
      " #   Column       Non-Null Count  Dtype   \n",
      "---  ------       --------------  -----   \n",
      " 0   MSSubClass   1460 non-null   category\n",
      " 1   MSZoning     1460 non-null   category\n",
      " 2   LotFrontage  1460 non-null   float64 \n",
      " 3   LotArea      1460 non-null   int64   \n",
      " 4   Street       1460 non-null   category\n",
      " 5   LotShape     1460 non-null   category\n",
      " 6   1stFlrSF     1460 non-null   int64   \n",
      " 7   2ndFlrSF     1460 non-null   int64   \n",
      " 8   SalePrice    1460 non-null   int64   \n",
      " 9   HouseAge     1460 non-null   int64   \n",
      "dtypes: category(4), float64(1), int64(5)\n",
      "memory usage: 75.5 KB\n"
     ]
    }
   ],
   "source": [
    "df.info()"
   ]
  },
  {
   "cell_type": "code",
   "execution_count": 18,
   "metadata": {},
   "outputs": [
    {
     "name": "stdout",
     "output_type": "stream",
     "text": [
      "0       5\n",
      "1       0\n",
      "2       5\n",
      "3       6\n",
      "4       5\n",
      "       ..\n",
      "1455    5\n",
      "1456    0\n",
      "1457    6\n",
      "1458    0\n",
      "1459    0\n",
      "Length: 1460, dtype: int8\n",
      "Int64Index([20, 30, 40, 45, 50, 60, 70, 75, 80, 85, 90, 120, 160, 180, 190], dtype='int64')\n",
      "[5 0 5 ... 6 0 0]\n",
      "\n",
      "\n",
      "0       3\n",
      "1       3\n",
      "2       3\n",
      "3       3\n",
      "4       3\n",
      "       ..\n",
      "1455    3\n",
      "1456    3\n",
      "1457    3\n",
      "1458    3\n",
      "1459    3\n",
      "Length: 1460, dtype: int8\n",
      "Index(['C (all)', 'FV', 'RH', 'RL', 'RM'], dtype='object')\n",
      "[3 3 3 ... 3 3 3]\n",
      "\n",
      "\n",
      "0       1\n",
      "1       1\n",
      "2       1\n",
      "3       1\n",
      "4       1\n",
      "       ..\n",
      "1455    1\n",
      "1456    1\n",
      "1457    1\n",
      "1458    1\n",
      "1459    1\n",
      "Length: 1460, dtype: int8\n",
      "Index(['Grvl', 'Pave'], dtype='object')\n",
      "[1 1 1 ... 1 1 1]\n",
      "\n",
      "\n",
      "0       3\n",
      "1       3\n",
      "2       0\n",
      "3       0\n",
      "4       0\n",
      "       ..\n",
      "1455    3\n",
      "1456    3\n",
      "1457    3\n",
      "1458    3\n",
      "1459    3\n",
      "Length: 1460, dtype: int8\n",
      "Index(['IR1', 'IR2', 'IR3', 'Reg'], dtype='object')\n",
      "[3 3 0 ... 3 3 3]\n",
      "\n",
      "\n"
     ]
    }
   ],
   "source": [
    "for i in category_columns:\n",
    "    print(df[i].cat.codes)\n",
    "    print(df[i].cat.categories)\n",
    "    print(df[i].cat.codes.values)\n",
    "    print('\\n')"
   ]
  },
  {
   "cell_type": "code",
   "execution_count": 19,
   "metadata": {},
   "outputs": [],
   "source": [
    "import numpy as np"
   ]
  },
  {
   "cell_type": "code",
   "execution_count": 20,
   "metadata": {},
   "outputs": [],
   "source": [
    "category_features = torch.tensor(np.stack([df[i].cat.codes.values for i in category_columns], axis = 1), dtype = torch.int64)"
   ]
  },
  {
   "cell_type": "code",
   "execution_count": 21,
   "metadata": {},
   "outputs": [
    {
     "data": {
      "text/plain": [
       "tensor([[5, 3, 1, 3],\n",
       "        [0, 3, 1, 3],\n",
       "        [5, 3, 1, 0],\n",
       "        ...,\n",
       "        [6, 3, 1, 3],\n",
       "        [0, 3, 1, 3],\n",
       "        [0, 3, 1, 3]])"
      ]
     },
     "execution_count": 21,
     "metadata": {},
     "output_type": "execute_result"
    }
   ],
   "source": [
    "category_features"
   ]
  },
  {
   "cell_type": "code",
   "execution_count": 22,
   "metadata": {},
   "outputs": [],
   "source": [
    "continueous_features = torch.tensor(np.stack([df[i].values for i in continueous_columns], axis = 1), dtype = torch.float)"
   ]
  },
  {
   "cell_type": "code",
   "execution_count": 23,
   "metadata": {},
   "outputs": [
    {
     "data": {
      "text/plain": [
       "tensor([[   65.,  8450.,   856.,   854.,    17.],\n",
       "        [   80.,  9600.,  1262.,     0.,    44.],\n",
       "        [   68., 11250.,   920.,   866.,    19.],\n",
       "        ...,\n",
       "        [   66.,  9042.,  1188.,  1152.,    79.],\n",
       "        [   68.,  9717.,  1078.,     0.,    70.],\n",
       "        [   75.,  9937.,  1256.,     0.,    55.]])"
      ]
     },
     "execution_count": 23,
     "metadata": {},
     "output_type": "execute_result"
    }
   ],
   "source": [
    "continueous_features"
   ]
  },
  {
   "cell_type": "code",
   "execution_count": 24,
   "metadata": {},
   "outputs": [],
   "source": [
    "y = torch.tensor(df[y].values, dtype = torch.float)"
   ]
  },
  {
   "cell_type": "code",
   "execution_count": 25,
   "metadata": {},
   "outputs": [
    {
     "data": {
      "text/plain": [
       "tensor([[208500.],\n",
       "        [181500.],\n",
       "        [223500.],\n",
       "        ...,\n",
       "        [266500.],\n",
       "        [142125.],\n",
       "        [147500.]])"
      ]
     },
     "execution_count": 25,
     "metadata": {},
     "output_type": "execute_result"
    }
   ],
   "source": [
    "y"
   ]
  },
  {
   "cell_type": "code",
   "execution_count": 26,
   "metadata": {},
   "outputs": [
    {
     "name": "stdout",
     "output_type": "stream",
     "text": [
      "torch.Size([1460, 4]) torch.Size([1460, 5]) torch.Size([1460, 1])\n"
     ]
    }
   ],
   "source": [
    "print(category_features.shape, continueous_features.shape, y.shape)"
   ]
  },
  {
   "cell_type": "code",
   "execution_count": 27,
   "metadata": {},
   "outputs": [],
   "source": [
    "category_size = [df[i].cat.categories.nunique() for i in category_columns]"
   ]
  },
  {
   "cell_type": "code",
   "execution_count": 28,
   "metadata": {},
   "outputs": [],
   "source": [
    "embedding_size = [(size, min(50, (size+1)//2)) for size in category_size]"
   ]
  },
  {
   "cell_type": "code",
   "execution_count": 29,
   "metadata": {},
   "outputs": [
    {
     "data": {
      "text/plain": [
       "[(15, 8), (5, 3), (2, 1), (4, 2)]"
      ]
     },
     "execution_count": 29,
     "metadata": {},
     "output_type": "execute_result"
    }
   ],
   "source": [
    "embedding_size"
   ]
  },
  {
   "cell_type": "code",
   "execution_count": null,
   "metadata": {},
   "outputs": [],
   "source": []
  },
  {
   "cell_type": "code",
   "execution_count": 30,
   "metadata": {},
   "outputs": [],
   "source": [
    "class TabularModel(nn.Module):\n",
    "    def __init__(self,embedding_size, n_cont, out_sz, hidden_layers, p=0.5):\n",
    "        \n",
    "        super().__init__()\n",
    "        self.embedding_list = nn.ModuleList([nn.Embedding(i,o) for i,o in embedding_size])\n",
    "        self.embedding_drop = nn.Dropout(p)\n",
    "        \n",
    "        #normalize the continueous feature:\n",
    "        self.bn_cont = nn.BatchNorm1d(n_cont)\n",
    "        \n",
    "        #inputs\n",
    "        n_emb = sum(o for i,o in embedding_size)\n",
    "        total_inputs = n_emb + n_cont\n",
    "        \n",
    "        #creating layers:\n",
    "        layerlist = []\n",
    "        \n",
    "        for i in hidden_layers:\n",
    "            layerlist.append(nn.Linear(total_inputs, i))\n",
    "            layerlist.append(nn.ReLU(inplace=True))\n",
    "            layerlist.append(nn.BatchNorm1d(i))\n",
    "            layerlist.append(nn.Dropout(p))\n",
    "            total_inputs = i\n",
    "        layerlist.append(nn.Linear(hidden_layers[-1], out_sz))\n",
    "        self.hidden_layers = nn.Sequential(*layerlist)\n",
    "        \n",
    "    def forward(self,x_cat, x_cont):\n",
    "        embeddings = []\n",
    "        \n",
    "        for i,e in enumerate(self.embedding_list):\n",
    "            embeddings.append(e(x_cat[:,i]))\n",
    "        x = torch.cat(embeddings, axis = 1)\n",
    "        x = self.embedding_drop(x)\n",
    "        \n",
    "        x_cont = self.bn_cont(x_cont)\n",
    "        x = torch.cat([x,x_cont], axis = 1)\n",
    "        x = self.hidden_layers(x)\n",
    "        \n",
    "        return x"
   ]
  },
  {
   "cell_type": "code",
   "execution_count": 31,
   "metadata": {},
   "outputs": [],
   "source": [
    "torch.manual_seed(50)\n",
    "my_model = TabularModel(embedding_size, continueous_features.shape[1], 1, [100,50], p=0.4)"
   ]
  },
  {
   "cell_type": "code",
   "execution_count": 32,
   "metadata": {},
   "outputs": [
    {
     "data": {
      "text/plain": [
       "TabularModel(\n",
       "  (embedding_list): ModuleList(\n",
       "    (0): Embedding(15, 8)\n",
       "    (1): Embedding(5, 3)\n",
       "    (2): Embedding(2, 1)\n",
       "    (3): Embedding(4, 2)\n",
       "  )\n",
       "  (embedding_drop): Dropout(p=0.4, inplace=False)\n",
       "  (bn_cont): BatchNorm1d(5, eps=1e-05, momentum=0.1, affine=True, track_running_stats=True)\n",
       "  (hidden_layers): Sequential(\n",
       "    (0): Linear(in_features=19, out_features=100, bias=True)\n",
       "    (1): ReLU(inplace=True)\n",
       "    (2): BatchNorm1d(100, eps=1e-05, momentum=0.1, affine=True, track_running_stats=True)\n",
       "    (3): Dropout(p=0.4, inplace=False)\n",
       "    (4): Linear(in_features=100, out_features=50, bias=True)\n",
       "    (5): ReLU(inplace=True)\n",
       "    (6): BatchNorm1d(50, eps=1e-05, momentum=0.1, affine=True, track_running_stats=True)\n",
       "    (7): Dropout(p=0.4, inplace=False)\n",
       "    (8): Linear(in_features=50, out_features=1, bias=True)\n",
       "  )\n",
       ")"
      ]
     },
     "execution_count": 32,
     "metadata": {},
     "output_type": "execute_result"
    }
   ],
   "source": [
    "my_model"
   ]
  },
  {
   "cell_type": "code",
   "execution_count": 33,
   "metadata": {},
   "outputs": [],
   "source": [
    "criterion = nn.MSELoss()\n",
    "optimizer = torch.optim.Adam(my_model.parameters(), lr = 0.01)"
   ]
  },
  {
   "cell_type": "code",
   "execution_count": 34,
   "metadata": {},
   "outputs": [
    {
     "data": {
      "text/plain": [
       "(1460, 10)"
      ]
     },
     "execution_count": 34,
     "metadata": {},
     "output_type": "execute_result"
    }
   ],
   "source": [
    "df.shape"
   ]
  },
  {
   "cell_type": "code",
   "execution_count": 35,
   "metadata": {},
   "outputs": [],
   "source": [
    "batch_size = 1460\n",
    "test_size = int(batch_size * .2)\n",
    "\n",
    "cat_train = category_features[:batch_size-test_size]\n",
    "cat_test = category_features[batch_size-test_size:batch_size]\n",
    "con_train = continueous_features[:batch_size-test_size]\n",
    "con_test = continueous_features[batch_size-test_size:batch_size]\n",
    "y_train = y[:batch_size-test_size]\n",
    "y_test = y[batch_size-test_size:batch_size]"
   ]
  },
  {
   "cell_type": "code",
   "execution_count": 36,
   "metadata": {},
   "outputs": [
    {
     "name": "stdout",
     "output_type": "stream",
     "text": [
      "epoch:   1  loss: 197026.60937500\n",
      "epoch: 201  loss: 196421.48437500\n",
      "epoch: 401  loss: 194379.21875000\n",
      "epoch: 601  loss: 191107.73437500\n",
      "epoch: 801  loss: 186708.75000000\n",
      "epoch: 1001  loss: 181362.31250000\n",
      "epoch: 1201  loss: 174674.67187500\n",
      "epoch: 1401  loss: 167369.17187500\n",
      "epoch: 1601  loss: 159738.65625000\n",
      "epoch: 1801  loss: 150960.50000000\n",
      "epoch: 2001  loss: 141595.25000000\n",
      "epoch: 2201  loss: 132218.84375000\n",
      "epoch: 2401  loss: 122553.17968750\n",
      "epoch: 2601  loss: 112659.25000000\n",
      "epoch: 2801  loss: 104566.23437500\n",
      "epoch: 3001  loss: 94609.71093750\n",
      "epoch: 3201  loss: 86133.01562500\n",
      "epoch: 3401  loss: 74837.25781250\n",
      "epoch: 3601  loss: 64692.54296875\n",
      "epoch: 3801  loss: 56496.65625000\n",
      "epoch: 4001  loss: 48742.10937500\n",
      "epoch: 4201  loss: 43700.68750000\n",
      "epoch: 4401  loss: 39054.92187500\n",
      "epoch: 4601  loss: 37095.03125000\n",
      "epochs: 4800 loss: 35695.42578125\n",
      "\n",
      " Duration: 297.2482557296753\n"
     ]
    }
   ],
   "source": [
    "import time \n",
    "start_time = time.time()\n",
    "\n",
    "epochs = 4800\n",
    "losses = []\n",
    "\n",
    "for i in range(epochs):\n",
    "    i+=1\n",
    "    y_pred = my_model(cat_train, con_train)\n",
    "    loss = torch.sqrt(criterion(y_pred, y_train))\n",
    "    losses.append(loss)\n",
    "    \n",
    "    if i%200 == 1:\n",
    "        print(f'epoch: {i:3}  loss: {loss.item():10.8f}')\n",
    "    \n",
    "    optimizer.zero_grad()\n",
    "    loss.backward()\n",
    "    optimizer.step()\n",
    "    \n",
    "print(f'epochs: {i} loss: {loss.item()}')\n",
    "print(f'\\n Duration: {time.time() - start_time}')"
   ]
  },
  {
   "cell_type": "code",
   "execution_count": 37,
   "metadata": {},
   "outputs": [
    {
     "data": {
      "text/plain": [
       "[<matplotlib.lines.Line2D at 0x21fba3c0a88>]"
      ]
     },
     "execution_count": 37,
     "metadata": {},
     "output_type": "execute_result"
    },
    {
     "data": {
      "image/png": "[encoded data removed]",
      "text/plain": [
       "<Figure size 432x288 with 1 Axes>"
      ]
     },
     "metadata": {
      "needs_background": "light"
     },
     "output_type": "display_data"
    }
   ],
   "source": [
    "plt.plot(range(epochs),losses)"
   ]
  },
  {
   "cell_type": "code",
   "execution_count": 38,
   "metadata": {},
   "outputs": [],
   "source": [
    "with torch.no_grad():\n",
    "    y_eval = my_model(cat_test,con_test)\n",
    "    loss = torch.sqrt(criterion(y_eval, y_test))"
   ]
  },
  {
   "cell_type": "code",
   "execution_count": 39,
   "metadata": {},
   "outputs": [
    {
     "name": "stdout",
     "output_type": "stream",
     "text": [
      "tensor(43675.7773)\n"
     ]
    }
   ],
   "source": [
    "print(loss)"
   ]
  },
  {
   "cell_type": "code",
   "execution_count": 40,
   "metadata": {},
   "outputs": [
    {
     "name": "stdout",
     "output_type": "stream",
     "text": [
      "   PREDICTED   ACTUAL     DIFF\n",
      " 1. 196881.0312 235000.0000 38118.9688\n",
      " 2. 486820.5000 625000.0000 138179.5000\n",
      " 3. 164579.0469 171000.0000 6420.9531\n",
      " 4. 124699.8203 163000.0000 38300.1797\n",
      " 5. 118261.4453 171900.0000 53638.5547\n",
      " 6. 264492.8438 200500.0000 63992.8438\n",
      " 7. 236983.1719 239000.0000 2016.8281\n",
      " 8. 206393.0625 285000.0000 78606.9375\n",
      " 9. 108379.1484 119500.0000 11120.8516\n",
      "10. 115142.6641 115000.0000 142.6641\n",
      "11. 91253.2891 154900.0000 63646.7109\n",
      "12. 107880.3984 93000.0000 14880.3984\n",
      "13. 195453.9219 250000.0000 54546.0781\n",
      "14. 229214.7500 392500.0000 163285.2500\n",
      "15. 751683.5625 745000.0000 6683.5625\n",
      "16. 83344.6953 120000.0000 36655.3047\n",
      "17. 269380.7812 186700.0000 82680.7812\n",
      "18. 101542.0000 104900.0000 3358.0000\n",
      "19. 103785.0703 95000.0000 8785.0703\n",
      "20. 203308.6406 262000.0000 58691.3594\n",
      "21. 192074.7812 195000.0000 2925.2188\n",
      "22. 182970.3281 189000.0000 6029.6719\n",
      "23. 221509.7500 168000.0000 53509.7500\n",
      "24. 180279.7656 174000.0000 6279.7656\n",
      "25. 125895.6016 125000.0000 895.6016\n",
      "26. 172347.1094 165000.0000 7347.1094\n",
      "27. 128555.0391 158000.0000 29444.9609\n",
      "28. 181554.3906 176000.0000 5554.3906\n",
      "29. 205501.4219 219210.0000 13708.5781\n",
      "30. 116434.1484 144000.0000 27565.8516\n",
      "31. 161957.5938 178000.0000 16042.4062\n",
      "32. 175858.2188 148000.0000 27858.2188\n",
      "33. 113103.0859 116050.0000 2946.9141\n",
      "34. 217621.2031 197900.0000 19721.2031\n",
      "35. 95962.4922 117000.0000 21037.5078\n",
      "36. 184761.9844 213000.0000 28238.0156\n",
      "37. 127565.2031 153500.0000 25934.7969\n",
      "38. 332625.1562 271900.0000 60725.1562\n",
      "39. 89763.3906 107000.0000 17236.6094\n",
      "40. 249861.6719 200000.0000 49861.6719\n",
      "41. 131550.5469 140000.0000 8449.4531\n",
      "42. 242448.7344 290000.0000 47551.2656\n",
      "43. 179163.1406 189000.0000 9836.8594\n",
      "44. 167200.0781 164000.0000 3200.0781\n",
      "45. 85570.7344 113000.0000 27429.2656\n",
      "46. 138312.4375 145000.0000 6687.5625\n",
      "47. 98371.3516 134500.0000 36128.6484\n",
      "48. 111984.3672 125000.0000 13015.6328\n",
      "49. 115923.6016 112000.0000 3923.6016\n",
      "50. 214233.0156 229456.0000 15222.9844\n"
     ]
    }
   ],
   "source": [
    "print(f'{\"PREDICTED\":>12} {\"ACTUAL\":>8} {\"DIFF\":>8}')\n",
    "for i in range(50):\n",
    "    diff = np.abs(y_eval[i].item()-y_test[i].item())\n",
    "    print(f'{i+1:2}. {y_eval[i].item():8.4f} {y_test[i].item():8.4f} {diff:8.4f}')"
   ]
  },
  {
   "cell_type": "code",
   "execution_count": null,
   "metadata": {},
   "outputs": [],
   "source": []
  }
 ],
 "metadata": {
  "kernelspec": {
   "display_name": "Python 3",
   "language": "python",
   "name": "python3"
  },
  "language_info": {
   "codemirror_mode": {
    "name": "ipython",
    "version": 3
   },
   "file_extension": ".py",
   "mimetype": "text/x-python",
   "name": "python",
   "nbconvert_exporter": "python",
   "pygments_lexer": "ipython3",
   "version": "3.7.6"
  }
 },
 "nbformat": 4,
 "nbformat_minor": 4
}
