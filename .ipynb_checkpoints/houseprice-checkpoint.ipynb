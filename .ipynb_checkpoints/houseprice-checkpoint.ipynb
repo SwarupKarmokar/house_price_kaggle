{
 "cells": [
  {
   "cell_type": "code",
   "execution_count": 1,
   "metadata": {},
   "outputs": [],
   "source": [
    "import pandas as pd\n",
    "import seaborn as sns"
   ]
  },
  {
   "cell_type": "code",
   "execution_count": 2,
   "metadata": {},
   "outputs": [],
   "source": [
    "df = pd.read_csv('train (1).csv', usecols = [\"MSSubClass\", \"MSZoning\", \"LotFrontage\", \"LotArea\", \"Street\", \"LotShape\", \"1stFlrSF\", \"2ndFlrSF\", \"YearBuilt\", \"SalePrice\"])"
   ]
  },
  {
   "cell_type": "code",
   "execution_count": 3,
   "metadata": {},
   "outputs": [
    {
     "data": {
      "text/html": [
       "<div>\n",
       "<style scoped>\n",
       "    .dataframe tbody tr th:only-of-type {\n",
       "        vertical-align: middle;\n",
       "    }\n",
       "\n",
       "    .dataframe tbody tr th {\n",
       "        vertical-align: top;\n",
       "    }\n",
       "\n",
       "    .dataframe thead th {\n",
       "        text-align: right;\n",
       "    }\n",
       "</style>\n",
       "<table border=\"1\" class=\"dataframe\">\n",
       "  <thead>\n",
       "    <tr style=\"text-align: right;\">\n",
       "      <th></th>\n",
       "      <th>MSSubClass</th>\n",
       "      <th>MSZoning</th>\n",
       "      <th>LotFrontage</th>\n",
       "      <th>LotArea</th>\n",
       "      <th>Street</th>\n",
       "      <th>LotShape</th>\n",
       "      <th>YearBuilt</th>\n",
       "      <th>1stFlrSF</th>\n",
       "      <th>2ndFlrSF</th>\n",
       "      <th>SalePrice</th>\n",
       "    </tr>\n",
       "  </thead>\n",
       "  <tbody>\n",
       "    <tr>\n",
       "      <th>0</th>\n",
       "      <td>60</td>\n",
       "      <td>RL</td>\n",
       "      <td>65.0</td>\n",
       "      <td>8450</td>\n",
       "      <td>Pave</td>\n",
       "      <td>Reg</td>\n",
       "      <td>2003</td>\n",
       "      <td>856</td>\n",
       "      <td>854</td>\n",
       "      <td>208500</td>\n",
       "    </tr>\n",
       "    <tr>\n",
       "      <th>1</th>\n",
       "      <td>20</td>\n",
       "      <td>RL</td>\n",
       "      <td>80.0</td>\n",
       "      <td>9600</td>\n",
       "      <td>Pave</td>\n",
       "      <td>Reg</td>\n",
       "      <td>1976</td>\n",
       "      <td>1262</td>\n",
       "      <td>0</td>\n",
       "      <td>181500</td>\n",
       "    </tr>\n",
       "    <tr>\n",
       "      <th>2</th>\n",
       "      <td>60</td>\n",
       "      <td>RL</td>\n",
       "      <td>68.0</td>\n",
       "      <td>11250</td>\n",
       "      <td>Pave</td>\n",
       "      <td>IR1</td>\n",
       "      <td>2001</td>\n",
       "      <td>920</td>\n",
       "      <td>866</td>\n",
       "      <td>223500</td>\n",
       "    </tr>\n",
       "    <tr>\n",
       "      <th>3</th>\n",
       "      <td>70</td>\n",
       "      <td>RL</td>\n",
       "      <td>60.0</td>\n",
       "      <td>9550</td>\n",
       "      <td>Pave</td>\n",
       "      <td>IR1</td>\n",
       "      <td>1915</td>\n",
       "      <td>961</td>\n",
       "      <td>756</td>\n",
       "      <td>140000</td>\n",
       "    </tr>\n",
       "    <tr>\n",
       "      <th>4</th>\n",
       "      <td>60</td>\n",
       "      <td>RL</td>\n",
       "      <td>84.0</td>\n",
       "      <td>14260</td>\n",
       "      <td>Pave</td>\n",
       "      <td>IR1</td>\n",
       "      <td>2000</td>\n",
       "      <td>1145</td>\n",
       "      <td>1053</td>\n",
       "      <td>250000</td>\n",
       "    </tr>\n",
       "  </tbody>\n",
       "</table>\n",
       "</div>"
      ],
      "text/plain": [
       "   MSSubClass MSZoning  LotFrontage  LotArea Street LotShape  YearBuilt  \\\n",
       "0          60       RL         65.0     8450   Pave      Reg       2003   \n",
       "1          20       RL         80.0     9600   Pave      Reg       1976   \n",
       "2          60       RL         68.0    11250   Pave      IR1       2001   \n",
       "3          70       RL         60.0     9550   Pave      IR1       1915   \n",
       "4          60       RL         84.0    14260   Pave      IR1       2000   \n",
       "\n",
       "   1stFlrSF  2ndFlrSF  SalePrice  \n",
       "0       856       854     208500  \n",
       "1      1262         0     181500  \n",
       "2       920       866     223500  \n",
       "3       961       756     140000  \n",
       "4      1145      1053     250000  "
      ]
     },
     "execution_count": 3,
     "metadata": {},
     "output_type": "execute_result"
    }
   ],
   "source": [
    "df.head()"
   ]
  },
  {
   "cell_type": "code",
   "execution_count": 4,
   "metadata": {},
   "outputs": [
    {
     "data": {
      "text/plain": [
       "MSSubClass       0\n",
       "MSZoning         0\n",
       "LotFrontage    259\n",
       "LotArea          0\n",
       "Street           0\n",
       "LotShape         0\n",
       "YearBuilt        0\n",
       "1stFlrSF         0\n",
       "2ndFlrSF         0\n",
       "SalePrice        0\n",
       "dtype: int64"
      ]
     },
     "execution_count": 4,
     "metadata": {},
     "output_type": "execute_result"
    }
   ],
   "source": [
    "df.isnull().sum()"
   ]
  },
  {
   "cell_type": "code",
   "execution_count": 5,
   "metadata": {},
   "outputs": [],
   "source": [
    "df['LotFrontage'] = df['LotFrontage'].fillna(df['LotFrontage'].mean())"
   ]
  },
  {
   "cell_type": "code",
   "execution_count": 6,
   "metadata": {},
   "outputs": [
    {
     "data": {
      "text/plain": [
       "MSSubClass     0\n",
       "MSZoning       0\n",
       "LotFrontage    0\n",
       "LotArea        0\n",
       "Street         0\n",
       "LotShape       0\n",
       "YearBuilt      0\n",
       "1stFlrSF       0\n",
       "2ndFlrSF       0\n",
       "SalePrice      0\n",
       "dtype: int64"
      ]
     },
     "execution_count": 6,
     "metadata": {},
     "output_type": "execute_result"
    }
   ],
   "source": [
    "df.isnull().sum()"
   ]
  },
  {
   "cell_type": "code",
   "execution_count": 7,
   "metadata": {},
   "outputs": [
    {
     "data": {
      "text/plain": [
       "(1460, 10)"
      ]
     },
     "execution_count": 7,
     "metadata": {},
     "output_type": "execute_result"
    }
   ],
   "source": [
    "df.shape"
   ]
  },
  {
   "cell_type": "code",
   "execution_count": 8,
   "metadata": {},
   "outputs": [
    {
     "name": "stdout",
     "output_type": "stream",
     "text": [
      "<class 'pandas.core.frame.DataFrame'>\n",
      "RangeIndex: 1460 entries, 0 to 1459\n",
      "Data columns (total 10 columns):\n",
      " #   Column       Non-Null Count  Dtype  \n",
      "---  ------       --------------  -----  \n",
      " 0   MSSubClass   1460 non-null   int64  \n",
      " 1   MSZoning     1460 non-null   object \n",
      " 2   LotFrontage  1460 non-null   float64\n",
      " 3   LotArea      1460 non-null   int64  \n",
      " 4   Street       1460 non-null   object \n",
      " 5   LotShape     1460 non-null   object \n",
      " 6   YearBuilt    1460 non-null   int64  \n",
      " 7   1stFlrSF     1460 non-null   int64  \n",
      " 8   2ndFlrSF     1460 non-null   int64  \n",
      " 9   SalePrice    1460 non-null   int64  \n",
      "dtypes: float64(1), int64(6), object(3)\n",
      "memory usage: 114.2+ KB\n"
     ]
    }
   ],
   "source": [
    "df.info()"
   ]
  },
  {
   "cell_type": "code",
   "execution_count": 9,
   "metadata": {},
   "outputs": [
    {
     "name": "stdout",
     "output_type": "stream",
     "text": [
      "Column name MSSubClass, unique_value 15\n",
      "Column name MSZoning, unique_value 5\n",
      "Column name LotFrontage, unique_value 111\n",
      "Column name LotArea, unique_value 1073\n",
      "Column name Street, unique_value 2\n",
      "Column name LotShape, unique_value 4\n",
      "Column name YearBuilt, unique_value 112\n",
      "Column name 1stFlrSF, unique_value 753\n",
      "Column name 2ndFlrSF, unique_value 417\n",
      "Column name SalePrice, unique_value 663\n"
     ]
    }
   ],
   "source": [
    "for i in df.columns:\n",
    "    print(\"Column name {}, unique_value {}\".format(i,len(df[i].unique())))"
   ]
  },
  {
   "cell_type": "code",
   "execution_count": 10,
   "metadata": {},
   "outputs": [],
   "source": [
    "import datetime"
   ]
  },
  {
   "cell_type": "code",
   "execution_count": 11,
   "metadata": {},
   "outputs": [],
   "source": [
    "df[\"HouseAge\"] = datetime.datetime.now().year - df['YearBuilt']"
   ]
  },
  {
   "cell_type": "code",
   "execution_count": 12,
   "metadata": {},
   "outputs": [],
   "source": [
    "df.drop('YearBuilt', axis = 1, inplace = True)"
   ]
  },
  {
   "cell_type": "code",
   "execution_count": 13,
   "metadata": {},
   "outputs": [
    {
     "data": {
      "text/html": [
       "<div>\n",
       "<style scoped>\n",
       "    .dataframe tbody tr th:only-of-type {\n",
       "        vertical-align: middle;\n",
       "    }\n",
       "\n",
       "    .dataframe tbody tr th {\n",
       "        vertical-align: top;\n",
       "    }\n",
       "\n",
       "    .dataframe thead th {\n",
       "        text-align: right;\n",
       "    }\n",
       "</style>\n",
       "<table border=\"1\" class=\"dataframe\">\n",
       "  <thead>\n",
       "    <tr style=\"text-align: right;\">\n",
       "      <th></th>\n",
       "      <th>MSSubClass</th>\n",
       "      <th>MSZoning</th>\n",
       "      <th>LotFrontage</th>\n",
       "      <th>LotArea</th>\n",
       "      <th>Street</th>\n",
       "      <th>LotShape</th>\n",
       "      <th>1stFlrSF</th>\n",
       "      <th>2ndFlrSF</th>\n",
       "      <th>SalePrice</th>\n",
       "      <th>HouseAge</th>\n",
       "    </tr>\n",
       "  </thead>\n",
       "  <tbody>\n",
       "    <tr>\n",
       "      <th>0</th>\n",
       "      <td>60</td>\n",
       "      <td>RL</td>\n",
       "      <td>65.0</td>\n",
       "      <td>8450</td>\n",
       "      <td>Pave</td>\n",
       "      <td>Reg</td>\n",
       "      <td>856</td>\n",
       "      <td>854</td>\n",
       "      <td>208500</td>\n",
       "      <td>17</td>\n",
       "    </tr>\n",
       "    <tr>\n",
       "      <th>1</th>\n",
       "      <td>20</td>\n",
       "      <td>RL</td>\n",
       "      <td>80.0</td>\n",
       "      <td>9600</td>\n",
       "      <td>Pave</td>\n",
       "      <td>Reg</td>\n",
       "      <td>1262</td>\n",
       "      <td>0</td>\n",
       "      <td>181500</td>\n",
       "      <td>44</td>\n",
       "    </tr>\n",
       "    <tr>\n",
       "      <th>2</th>\n",
       "      <td>60</td>\n",
       "      <td>RL</td>\n",
       "      <td>68.0</td>\n",
       "      <td>11250</td>\n",
       "      <td>Pave</td>\n",
       "      <td>IR1</td>\n",
       "      <td>920</td>\n",
       "      <td>866</td>\n",
       "      <td>223500</td>\n",
       "      <td>19</td>\n",
       "    </tr>\n",
       "    <tr>\n",
       "      <th>3</th>\n",
       "      <td>70</td>\n",
       "      <td>RL</td>\n",
       "      <td>60.0</td>\n",
       "      <td>9550</td>\n",
       "      <td>Pave</td>\n",
       "      <td>IR1</td>\n",
       "      <td>961</td>\n",
       "      <td>756</td>\n",
       "      <td>140000</td>\n",
       "      <td>105</td>\n",
       "    </tr>\n",
       "    <tr>\n",
       "      <th>4</th>\n",
       "      <td>60</td>\n",
       "      <td>RL</td>\n",
       "      <td>84.0</td>\n",
       "      <td>14260</td>\n",
       "      <td>Pave</td>\n",
       "      <td>IR1</td>\n",
       "      <td>1145</td>\n",
       "      <td>1053</td>\n",
       "      <td>250000</td>\n",
       "      <td>20</td>\n",
       "    </tr>\n",
       "  </tbody>\n",
       "</table>\n",
       "</div>"
      ],
      "text/plain": [
       "   MSSubClass MSZoning  LotFrontage  LotArea Street LotShape  1stFlrSF  \\\n",
       "0          60       RL         65.0     8450   Pave      Reg       856   \n",
       "1          20       RL         80.0     9600   Pave      Reg      1262   \n",
       "2          60       RL         68.0    11250   Pave      IR1       920   \n",
       "3          70       RL         60.0     9550   Pave      IR1       961   \n",
       "4          60       RL         84.0    14260   Pave      IR1      1145   \n",
       "\n",
       "   2ndFlrSF  SalePrice  HouseAge  \n",
       "0       854     208500        17  \n",
       "1         0     181500        44  \n",
       "2       866     223500        19  \n",
       "3       756     140000       105  \n",
       "4      1053     250000        20  "
      ]
     },
     "execution_count": 13,
     "metadata": {},
     "output_type": "execute_result"
    }
   ],
   "source": [
    "df.head()"
   ]
  },
  {
   "cell_type": "code",
   "execution_count": 14,
   "metadata": {},
   "outputs": [
    {
     "data": {
      "text/plain": [
       "Index(['MSSubClass', 'MSZoning', 'LotFrontage', 'LotArea', 'Street',\n",
       "       'LotShape', '1stFlrSF', '2ndFlrSF', 'SalePrice', 'HouseAge'],\n",
       "      dtype='object')"
      ]
     },
     "execution_count": 14,
     "metadata": {},
     "output_type": "execute_result"
    }
   ],
   "source": [
    "df.columns"
   ]
  },
  {
   "cell_type": "code",
   "execution_count": 15,
   "metadata": {},
   "outputs": [],
   "source": [
    "from sklearn.preprocessing import LabelEncoder"
   ]
  },
  {
   "cell_type": "code",
   "execution_count": 16,
   "metadata": {},
   "outputs": [],
   "source": [
    "label_of_columns = ['MSSubClass', 'MSZoning', 'Street','LotShape']"
   ]
  },
  {
   "cell_type": "code",
   "execution_count": 17,
   "metadata": {},
   "outputs": [],
   "source": [
    "for item in label_of_columns:\n",
    "    label_encoder = LabelEncoder()\n",
    "    df[item] = label_encoder.fit_transform(df[item])"
   ]
  },
  {
   "cell_type": "code",
   "execution_count": 18,
   "metadata": {},
   "outputs": [
    {
     "data": {
      "text/html": [
       "<div>\n",
       "<style scoped>\n",
       "    .dataframe tbody tr th:only-of-type {\n",
       "        vertical-align: middle;\n",
       "    }\n",
       "\n",
       "    .dataframe tbody tr th {\n",
       "        vertical-align: top;\n",
       "    }\n",
       "\n",
       "    .dataframe thead th {\n",
       "        text-align: right;\n",
       "    }\n",
       "</style>\n",
       "<table border=\"1\" class=\"dataframe\">\n",
       "  <thead>\n",
       "    <tr style=\"text-align: right;\">\n",
       "      <th></th>\n",
       "      <th>MSSubClass</th>\n",
       "      <th>MSZoning</th>\n",
       "      <th>LotFrontage</th>\n",
       "      <th>LotArea</th>\n",
       "      <th>Street</th>\n",
       "      <th>LotShape</th>\n",
       "      <th>1stFlrSF</th>\n",
       "      <th>2ndFlrSF</th>\n",
       "      <th>SalePrice</th>\n",
       "      <th>HouseAge</th>\n",
       "    </tr>\n",
       "  </thead>\n",
       "  <tbody>\n",
       "    <tr>\n",
       "      <th>0</th>\n",
       "      <td>5</td>\n",
       "      <td>3</td>\n",
       "      <td>65.0</td>\n",
       "      <td>8450</td>\n",
       "      <td>1</td>\n",
       "      <td>3</td>\n",
       "      <td>856</td>\n",
       "      <td>854</td>\n",
       "      <td>208500</td>\n",
       "      <td>17</td>\n",
       "    </tr>\n",
       "    <tr>\n",
       "      <th>1</th>\n",
       "      <td>0</td>\n",
       "      <td>3</td>\n",
       "      <td>80.0</td>\n",
       "      <td>9600</td>\n",
       "      <td>1</td>\n",
       "      <td>3</td>\n",
       "      <td>1262</td>\n",
       "      <td>0</td>\n",
       "      <td>181500</td>\n",
       "      <td>44</td>\n",
       "    </tr>\n",
       "    <tr>\n",
       "      <th>2</th>\n",
       "      <td>5</td>\n",
       "      <td>3</td>\n",
       "      <td>68.0</td>\n",
       "      <td>11250</td>\n",
       "      <td>1</td>\n",
       "      <td>0</td>\n",
       "      <td>920</td>\n",
       "      <td>866</td>\n",
       "      <td>223500</td>\n",
       "      <td>19</td>\n",
       "    </tr>\n",
       "    <tr>\n",
       "      <th>3</th>\n",
       "      <td>6</td>\n",
       "      <td>3</td>\n",
       "      <td>60.0</td>\n",
       "      <td>9550</td>\n",
       "      <td>1</td>\n",
       "      <td>0</td>\n",
       "      <td>961</td>\n",
       "      <td>756</td>\n",
       "      <td>140000</td>\n",
       "      <td>105</td>\n",
       "    </tr>\n",
       "    <tr>\n",
       "      <th>4</th>\n",
       "      <td>5</td>\n",
       "      <td>3</td>\n",
       "      <td>84.0</td>\n",
       "      <td>14260</td>\n",
       "      <td>1</td>\n",
       "      <td>0</td>\n",
       "      <td>1145</td>\n",
       "      <td>1053</td>\n",
       "      <td>250000</td>\n",
       "      <td>20</td>\n",
       "    </tr>\n",
       "  </tbody>\n",
       "</table>\n",
       "</div>"
      ],
      "text/plain": [
       "   MSSubClass  MSZoning  LotFrontage  LotArea  Street  LotShape  1stFlrSF  \\\n",
       "0           5         3         65.0     8450       1         3       856   \n",
       "1           0         3         80.0     9600       1         3      1262   \n",
       "2           5         3         68.0    11250       1         0       920   \n",
       "3           6         3         60.0     9550       1         0       961   \n",
       "4           5         3         84.0    14260       1         0      1145   \n",
       "\n",
       "   2ndFlrSF  SalePrice  HouseAge  \n",
       "0       854     208500        17  \n",
       "1         0     181500        44  \n",
       "2       866     223500        19  \n",
       "3       756     140000       105  \n",
       "4      1053     250000        20  "
      ]
     },
     "execution_count": 18,
     "metadata": {},
     "output_type": "execute_result"
    }
   ],
   "source": [
    "df.head()"
   ]
  },
  {
   "cell_type": "code",
   "execution_count": 19,
   "metadata": {},
   "outputs": [
    {
     "name": "stdout",
     "output_type": "stream",
     "text": [
      "Column name MSSubClass, unique_value [ 5  0  6  4 14  3 10 11  1  9  8 12  7 13  2]\n",
      "Column name MSZoning, unique_value [3 4 0 1 2]\n",
      "Column name LotFrontage, unique_value [ 65.          80.          68.          60.          84.\n",
      "  85.          75.          70.04995837  51.          50.\n",
      "  70.          91.          72.          66.         101.\n",
      "  57.          44.         110.          98.          47.\n",
      " 108.         112.          74.         115.          61.\n",
      "  48.          33.          52.         100.          24.\n",
      "  89.          63.          76.          81.          95.\n",
      "  69.          21.          32.          78.         121.\n",
      " 122.          40.         105.          73.          77.\n",
      "  64.          94.          34.          90.          55.\n",
      "  88.          82.          71.         120.         107.\n",
      "  92.         134.          62.          86.         141.\n",
      "  97.          54.          41.          79.         174.\n",
      "  99.          67.          83.          43.         103.\n",
      "  93.          30.         129.         140.          35.\n",
      "  37.         118.          87.         116.         150.\n",
      " 111.          49.          96.          59.          36.\n",
      "  56.         102.          58.          38.         109.\n",
      " 130.          53.         137.          45.         106.\n",
      " 104.          42.          39.         144.         114.\n",
      " 128.         149.         313.         168.         182.\n",
      " 138.         160.         152.         124.         153.\n",
      "  46.        ]\n",
      "Column name LotArea, unique_value [ 8450  9600 11250 ... 17217 13175  9717]\n",
      "Column name Street, unique_value [1 0]\n",
      "Column name LotShape, unique_value [3 0 1 2]\n",
      "Column name 1stFlrSF, unique_value [ 856 1262  920  961 1145  796 1694 1107 1022 1077 1040 1182  912 1494\n",
      " 1253  854 1004 1296 1114 1339 1158 1108 1795 1060 1600  900 1704  520\n",
      "  649 1228 1234 1700 1561 1132 1097 1297 1057 1152 1324 1328  884  938\n",
      " 1150 1752 1518 1656  736  955  794  816 1842 1360 1425  983  860 1426\n",
      "  780  581 1370  902 1143 2207 1479  747 1304 2223  845  885 1086  840\n",
      "  526  952 1072 1768  682 1337 1563 1065  804 1301  684  612 1013  990\n",
      " 1235  964 1260  905  680 1588  960  835 1225 1610  977 1535 1226 1053\n",
      " 1047  789  997 1844 1216  774 1282 2259 1436  729 1092 1125 1699  728\n",
      "  988  772 1080 1199 1586  958  660 1327 1721 1682 1214 1959  928  864\n",
      " 1734  910 1501 1728  970  875  896  969 1710 1252 1200  572  991 1392\n",
      " 1232 1572 1541  882 1149  808 1867 1707 1064 1362 1651 2158 1164 2234\n",
      "  968  769  901 1340  936 1217 1224 1593 1549  725 1431  855 1726  929\n",
      " 1713 1121 1279  865  848  720 1442 1696 1100 1180 1212  932  689 1236\n",
      "  810 1137 1248 1498 1010  811 2392  630  483 1555 1194 1490  894 1414\n",
      " 1014  798 1566  866  889  626 1222 1872  908 1375 1444 1306 1625 1302\n",
      " 1314 1005 1604  963 1382 1482  926  764 1422  802 1052  778 1113 1095\n",
      " 1363 1632 1560 2121 1156 1175 1468 1575  625 1085  858  698 1079 1148\n",
      " 1644 1003  975 1041 1336 1210 1675 2000 1122 1035  861 1944  697  972\n",
      "  793 2036  832  716 1153 1088 1372 1472 1249 1136 1553 1163 1898  803\n",
      " 1719 1383 1445  596 1056 1629 1358  943 1619 1922 1536 1621 1215  993\n",
      "  841 1684  536 1478 1848 1869 1453  616 1192 1167 1142 1352  495  790\n",
      "  672 1394 1268 1287  953 1120  752 1319  847  904  914 1580 1856 1007\n",
      " 1026  939  784 1269  658 1742  788  735 1144  876 1112 1288 1310 1165\n",
      "  806 1620 1166 1071 1050 1276 1028  756 1344 1602 1470 1196  707  907\n",
      " 1208 1412  765  827  734  694 2402 1440 1128 1258  933 1689 1888  956\n",
      "  679  813 1533  888  786 1242  624 1663  833  979  575  849 1277 1634\n",
      " 1502 1161 1976 1652 1493 2069 1718 1131 1850 1792  916  999 1073 1484\n",
      " 1766  886 3228 1133  899 1801 1218 1368 2020 1378 1244 3138 1266 1476\n",
      "  605 2515 1509  751  334  820  880 1159 1601 1838 1680  767  664 1377\n",
      "  915  768  825 1069 1717 1126 1006 1048  897 1557 1389  996 1134 1496\n",
      "  846  576  877 1320  703 1429 2042 1521  989 2028  838 1473  779  770\n",
      "  924 1826 1402 1647 1058  927  600 1186 1940 1029 1032 1299 1054  807\n",
      " 1828 1548  980 1012 1116 1520 1350 1089 1554 1411  800 1567  981 1094\n",
      " 1051  822  755  909 2113  525  851 1486 1686 1181 2097 1454 1465 1679\n",
      " 1437  738 1839  792 2046  923 1291 1668 1195 1190  874  551 1419 2444\n",
      " 1238 1067 1391 1800 1264  372 1824  859 1576 1178 1325  971 1698 1776\n",
      " 1616 1146  948 1349 1464 1720 1038  742  757 1506 1836 1690 1220 1117\n",
      " 1973 1204 1614 1430 1110 1342  966  976 1062 1127 1285  773 1966 1428\n",
      " 1075 1309 1044  686 1661 1008  944 1489 2084 1434 1160  941 1516 1559\n",
      " 1099 1701 1307 1456  918 1779  702 1512 1039 1002 1646 1547 1036  676\n",
      " 1184 1462 1155 1090 1187  954  892 1709 1712  872 2217 1505 1068  951\n",
      " 2364 1670 1063 1636 1020 1105 1015 1001  546  480 1229 1272 1316 1617\n",
      " 1098 1788 1466  925 1905 1500 1207 1188 1381  965 1168  561  696 1542\n",
      "  824  783  673  869 1241 1118 1407  750  691 1574 1504  985 1657 1664\n",
      " 1082 2898 1687 1654 1055 1803 1532 2524 1733 1992 1771  930 1526 1091\n",
      " 1523 1364 1130 1096 1338 1103 1154  799  893  829 1240 1459 1251 1247\n",
      " 1390  438  950  887 1021 1552  812 1530  974  986 1042 1298 1811 1265\n",
      " 1640 1432  959 1831 1261 1170 2129  818 1124 2411  949 1624  831 1622\n",
      "  842  663  879  815 1630 1074 2196 1283 1660 1318 1211 2136 1138 1702\n",
      " 1507 1361 1024 1141 1173 2076 1140 1034 2110 1405  760 1987 1104  713\n",
      " 2018 1968 1332  935 1357  661 1724 1573 1582 1659 4692 1246  753 1203\n",
      " 1294 1902 1274 1787 1061  708 1584 1334  693 1284 1172 2156 2053  992\n",
      " 1078 1980 1281  814 2633 1571  984  754 2117  998 1416 1746 1525 1221\n",
      "  741 1569 1223  962 1537 1932 1423  913 1578 2073 1256]\n",
      "Column name 2ndFlrSF, unique_value [ 854    0  866  756 1053  566  983  752 1142 1218  668 1320  631  716\n",
      "  676  860 1519  530  808  977 1330  833  765  462  213  548  960  670\n",
      " 1116  876  612 1031  881  790  755  592  939  520  639  656 1414  884\n",
      "  729 1523  728  351  688  941 1032  848  836  475  739 1151  448  896\n",
      "  524 1194  956 1070 1096  467  547  551  880  703  901  720  316 1518\n",
      "  704 1178  754  601 1360  929  445  564  882  920  518  817 1257  741\n",
      "  672 1306  504 1304 1100  730  689  591  888 1020  828  700  842 1286\n",
      "  864  829 1092  709  844 1106  596  807  625  649  698  840  780  568\n",
      "  795  648  975  702 1242 1818 1121  371  804  325  809 1200  871 1274\n",
      " 1347 1332 1177 1080  695  167  915  576  605  862  495  403  838  517\n",
      " 1427  784  711  468 1081  886  793  665  858  874  526  590  406 1157\n",
      "  299  936  438 1098  766 1101 1028 1017 1254  378 1160  682  110  600\n",
      "  678  834  384  512  930  868  224 1103  560  811  878  574  910  620\n",
      "  687  546  902 1000  846 1067  914  660 1538 1015 1237  611  707  527\n",
      " 1288  832  806 1182 1040  439  717  511 1129 1370  636  533  745  584\n",
      "  812  684  595  988  800  677  573 1066  778  661 1440  872  788  843\n",
      "  713  567  651  762  482  738  586  679  644  900  887 1872 1281  472\n",
      " 1312  319  978 1093  473  664 1540 1276  441  348 1060  714  744 1203\n",
      "  783 1097  734  767 1589  742  686 1128 1111 1174  787 1072 1088 1063\n",
      "  545  966  623  432  581  540  769 1051  761  779  514  455 1426  785\n",
      "  521  252  813 1120 1037 1169 1001 1215  928 1140 1243  571 1196 1038\n",
      "  561  979  701  332  368  883 1336 1141  634  912  798  985  826  831\n",
      "  750  456  602  855  336  408  980  998 1168 1208  797  850  898 1054\n",
      "  895  954  772 1230  727  454  370  628  304  582 1122 1134  885  640\n",
      "  580 1112  653  220  240 1362  534  539  650  918  933  712 1796  971\n",
      " 1175  743  523 1216 2065  272  685  776  630  984  875  913  464 1039\n",
      " 1259  940  892  725  924  764  925 1479  192  589  992  903  430  748\n",
      "  587  994  950 1323  732 1357  557 1296  390 1185  873 1611  457  796\n",
      "  908  550  989  932  358 1392  349  691 1349  768  208  622  857  556\n",
      " 1044  708  626  904  510 1104  830  981  870  694 1152]\n",
      "Column name SalePrice, unique_value [208500 181500 223500 140000 250000 143000 307000 200000 129900 118000\n",
      " 129500 345000 144000 279500 157000 132000 149000  90000 159000 139000\n",
      " 325300 139400 230000 154000 256300 134800 306000 207500  68500  40000\n",
      " 149350 179900 165500 277500 309000 145000 153000 109000  82000 160000\n",
      " 170000 130250 141000 319900 239686 249700 113000 127000 177000 114500\n",
      " 110000 385000 130000 180500 172500 196500 438780 124900 158000 101000\n",
      " 202500 219500 317000 180000 226000  80000 225000 244000 185000 144900\n",
      " 107400  91000 135750 136500 193500 153500 245000 126500 168500 260000\n",
      " 174000 164500  85000 123600 109900  98600 163500 133900 204750 214000\n",
      "  94750  83000 128950 205000 178000 118964 198900 169500 100000 115000\n",
      " 190000 136900 383970 217000 259500 176000 155000 320000 163990 136000\n",
      " 153900 181000  84500 128000  87000 150000 150750 220000 171000 231500\n",
      " 166000 204000 125000 105000 222500 122000 372402 235000  79000 109500\n",
      " 269500 254900 162500 412500 103200 152000 127500 325624 183500 228000\n",
      " 128500 215000 239000 163000 184000 243000 211000 501837 200100 120000\n",
      " 475000 173000 135000 153337 286000 315000 192000 148500 311872 104000\n",
      " 274900 171500 112000 143900 277000  98000 186000 252678 156000 161750\n",
      " 134450 210000 107000 311500 167240 204900  97000 386250 290000 106000\n",
      " 192500 148000 403000  94500 128200 216500  89500 185500 194500 318000\n",
      " 262500 110500 241500 137000  76500 276000 151000  73000 175500 179500\n",
      " 120500 266000 124500 201000 415298 228500 244600 179200 164700  88000\n",
      " 153575 233230 135900 131000 167000 142500 175000 158500 267000 149900\n",
      " 295000 305900  82500 360000 165600 119900 375000 188500 270000 187500\n",
      " 342643 354000 301000 126175 242000 324000 145250 214500  78000 119000\n",
      " 284000 207000 228950 377426 202900  87500 140200 151500 157500 437154\n",
      " 318061  95000 105900 177500 134000 280000 198500 147000 165000 162000\n",
      " 172400 134432 123000  61000 340000 394432 179000 187750 213500  76000\n",
      " 240000  81000 191000 426000 106500 129000  67000 241000 245500 164990\n",
      " 108000 258000 168000 339750  60000 222000 181134 149500 126000 142000\n",
      " 206300 275000 109008 195400  85400  79900 122500 212000 116000  90350\n",
      " 555000 162900 199900 119500 188000 256000 161000 263435  62383 188700\n",
      " 124000 178740 146500 187000 440000 251000 132500 208900 380000 297000\n",
      "  89471 326000 374000 164000  86000 133000 172785  91300  34900 430000\n",
      " 226700 289000 208300 164900 202665  96500 402861 265000 234000 106250\n",
      " 184750 315750 446261 200624 107500  39300 111250 272000 248000 213250\n",
      " 179665 229000 263000 112500 255500 121500 268000 325000 316600 135960\n",
      " 142600 224500 118500 146000 131500 181900 253293 369900  79500 185900\n",
      " 451950 138000 319000 114504 194201 217500 221000 359100 313000 261500\n",
      "  75500 137500 183200 105500 314813 305000 165150 139900 209500  93000\n",
      " 264561 274000 370878 143250  98300 205950 350000 145500  97500 197900\n",
      " 402000 423000 230500 173500 103600 257500 372500 159434 285000 227875\n",
      " 148800 392000 194700 755000 335000 108480 141500  89000 123500 138500\n",
      " 196000 312500 361919 213000  55000 302000 254000 179540  52000 102776\n",
      " 189000 130500 159500 341000 103000 236500 131400  93500 239900 299800\n",
      " 236000 265979 260400 275500 158900 179400 215200 337000 264132 216837\n",
      " 538000 134900 102000 395000 221500 175900 187100 161500 233000 107900\n",
      " 160200 146800 269790 143500 485000 582933 227680 135500 159950 144500\n",
      "  55993 157900 224900 271000 224000 183000 139500 232600 147400 237000\n",
      " 139950 174900 133500 189950 250580 248900 169000 200500  66500 303477\n",
      " 132250 328900 122900 154500 118858 142953 611657 125500 255000 154300\n",
      " 173733  75000  35311 238000 176500 145900 169990 193000 117500 184900\n",
      " 253000 239799 244400 150900 197500 172000 116500 214900 178900  37900\n",
      "  99500 182000 167500  85500 178400 336000 159895 255900 117000 395192\n",
      " 195000 197000 348000 173900 337500 121600 206000 232000 136905 119200\n",
      " 227000 203000 213490 194000 287000 293077 310000 119750  84000 315500\n",
      " 262280 278000 139600 556581  84900 176485 200141 185850 328000 167900\n",
      " 151400  91500 138800 155900  83500 252000  92900 176432 274725 134500\n",
      " 184100 133700 118400 212900 163900 259000 239500  94000 424870 174500\n",
      " 116900 201800 218000 235128 108959 233170 245350 625000 171900 154900\n",
      " 392500 745000 186700 104900 262000 219210 116050 271900 229456  80500\n",
      " 137900 367294 101800 138887 265900 248328 465000 186500 169900 171750\n",
      " 294000 165400 301500  99900 128900 183900 378500 381000 185750  68400\n",
      " 150500 281000 333168 206900 295493 111000 156500  72500  52500 155835\n",
      " 108500 283463 410000 156932 144152 216000 274300 466500  58500 237500\n",
      " 377500 246578 281213 137450 193879 282922 257000 223000 274970 182900\n",
      " 192140 143750  64500 394617 149700 149300 121000 179600  92000 287090\n",
      " 266500 142125 147500]\n",
      "Column name HouseAge, unique_value [ 17  44  19 105  20  27  16  47  89  81  55  15  58  14  60  91  50  53\n",
      "  62  90  18  52  13  69  63  93 100  54  61  26  66  67  65  37  45  23\n",
      "  86  57  39  56  21  48  99  75  38  22  64  72 110  25  29  11  70  59\n",
      "  43  35  41 135 101  30  51  85  32  49  68  84  97  96  36  94  80  79\n",
      "  33  34  12 112 128 104  88 102 108  73  95 120  40  31  28  71 140  92\n",
      "  42  98  24  10  74 107  83  78  82  46 127 106 114 130 122 116 138 145\n",
      " 109 103 148 115]\n"
     ]
    }
   ],
   "source": [
    "for i in df.columns:\n",
    "    print(\"Column name {}, unique_value {}\".format(i,df[i].unique()))"
   ]
  },
  {
   "cell_type": "code",
   "execution_count": 20,
   "metadata": {},
   "outputs": [],
   "source": [
    "import numpy as np "
   ]
  },
  {
   "cell_type": "code",
   "execution_count": 28,
   "metadata": {},
   "outputs": [],
   "source": [
    "categorical_features = np.stack([df['MSSubClass'], df['MSZoning'], df['Street'],df['LotShape']], axis = 1)"
   ]
  },
  {
   "cell_type": "code",
   "execution_count": 29,
   "metadata": {},
   "outputs": [
    {
     "data": {
      "text/plain": [
       "array([[5, 3, 1, 3],\n",
       "       [0, 3, 1, 3],\n",
       "       [5, 3, 1, 0],\n",
       "       ...,\n",
       "       [6, 3, 1, 3],\n",
       "       [0, 3, 1, 3],\n",
       "       [0, 3, 1, 3]], dtype=int64)"
      ]
     },
     "execution_count": 29,
     "metadata": {},
     "output_type": "execute_result"
    }
   ],
   "source": [
    "categorical_features"
   ]
  },
  {
   "cell_type": "code",
   "execution_count": 25,
   "metadata": {},
   "outputs": [],
   "source": [
    "import torch"
   ]
  },
  {
   "cell_type": "code",
   "execution_count": 30,
   "metadata": {},
   "outputs": [],
   "source": [
    "categorical_features = torch.tensor(categorical_features)"
   ]
  },
  {
   "cell_type": "code",
   "execution_count": 31,
   "metadata": {},
   "outputs": [
    {
     "data": {
      "text/plain": [
       "tensor([[5, 3, 1, 3],\n",
       "        [0, 3, 1, 3],\n",
       "        [5, 3, 1, 0],\n",
       "        ...,\n",
       "        [6, 3, 1, 3],\n",
       "        [0, 3, 1, 3],\n",
       "        [0, 3, 1, 3]])"
      ]
     },
     "execution_count": 31,
     "metadata": {},
     "output_type": "execute_result"
    }
   ],
   "source": [
    "categorical_features"
   ]
  },
  {
   "cell_type": "code",
   "execution_count": 32,
   "metadata": {},
   "outputs": [],
   "source": [
    "continueous_features = []\n",
    "for i in df.columns:\n",
    "    if i in ['MSSubClass', 'MSZoning', 'Street','LotShape', 'SalePrice']:\n",
    "        pass\n",
    "    else:\n",
    "        continueous_features.append(i)\n",
    "    "
   ]
  },
  {
   "cell_type": "code",
   "execution_count": 33,
   "metadata": {},
   "outputs": [
    {
     "data": {
      "text/plain": [
       "['LotFrontage', 'LotArea', '1stFlrSF', '2ndFlrSF', 'HouseAge']"
      ]
     },
     "execution_count": 33,
     "metadata": {},
     "output_type": "execute_result"
    }
   ],
   "source": [
    "continueous_features"
   ]
  },
  {
   "cell_type": "code",
   "execution_count": 34,
   "metadata": {},
   "outputs": [],
   "source": [
    "continueous_features = np.stack([df[i].values for i in continueous_features], axis = 1)"
   ]
  },
  {
   "cell_type": "code",
   "execution_count": 35,
   "metadata": {},
   "outputs": [],
   "source": [
    "continueous_features = torch.tensor(continueous_features)"
   ]
  },
  {
   "cell_type": "code",
   "execution_count": 36,
   "metadata": {},
   "outputs": [
    {
     "data": {
      "text/plain": [
       "tensor([[   65.,  8450.,   856.,   854.,    17.],\n",
       "        [   80.,  9600.,  1262.,     0.,    44.],\n",
       "        [   68., 11250.,   920.,   866.,    19.],\n",
       "        ...,\n",
       "        [   66.,  9042.,  1188.,  1152.,    79.],\n",
       "        [   68.,  9717.,  1078.,     0.,    70.],\n",
       "        [   75.,  9937.,  1256.,     0.,    55.]], dtype=torch.float64)"
      ]
     },
     "execution_count": 36,
     "metadata": {},
     "output_type": "execute_result"
    }
   ],
   "source": [
    "continueous_features"
   ]
  },
  {
   "cell_type": "code",
   "execution_count": 41,
   "metadata": {},
   "outputs": [],
   "source": [
    "# target column\n",
    "y = torch.tensor(df[\"SalePrice\"]).reshape(-1,1)"
   ]
  },
  {
   "cell_type": "code",
   "execution_count": 42,
   "metadata": {},
   "outputs": [
    {
     "data": {
      "text/plain": [
       "tensor([[208500],\n",
       "        [181500],\n",
       "        [223500],\n",
       "        ...,\n",
       "        [266500],\n",
       "        [142125],\n",
       "        [147500]])"
      ]
     },
     "execution_count": 42,
     "metadata": {},
     "output_type": "execute_result"
    }
   ],
   "source": [
    "y"
   ]
  },
  {
   "cell_type": "code",
   "execution_count": 43,
   "metadata": {},
   "outputs": [],
   "source": [
    "# embedding\n",
    "\n",
    "cat_dimension = [len(df[i].unique()) for i in ['MSSubClass', 'MSZoning', 'Street','LotShape']]"
   ]
  },
  {
   "cell_type": "code",
   "execution_count": 44,
   "metadata": {},
   "outputs": [
    {
     "data": {
      "text/plain": [
       "[15, 5, 2, 4]"
      ]
     },
     "execution_count": 44,
     "metadata": {},
     "output_type": "execute_result"
    }
   ],
   "source": [
    "cat_dimension"
   ]
  },
  {
   "cell_type": "code",
   "execution_count": 58,
   "metadata": {},
   "outputs": [],
   "source": [
    "embedding_dim = [(x, (x+1) // 2) for x in cat_dimension]"
   ]
  },
  {
   "cell_type": "code",
   "execution_count": 59,
   "metadata": {},
   "outputs": [
    {
     "data": {
      "text/plain": [
       "[(15, 8), (5, 3), (2, 1), (4, 2)]"
      ]
     },
     "execution_count": 59,
     "metadata": {},
     "output_type": "execute_result"
    }
   ],
   "source": [
    "embedding_dim"
   ]
  },
  {
   "cell_type": "code",
   "execution_count": 60,
   "metadata": {},
   "outputs": [],
   "source": [
    "import torch.nn as nn\n",
    "import torch.nn.functional as F"
   ]
  },
  {
   "cell_type": "code",
   "execution_count": 61,
   "metadata": {},
   "outputs": [],
   "source": [
    "embed = nn.ModuleList(nn.Embedding(i,o) for i,o in embedding_dim)"
   ]
  },
  {
   "cell_type": "code",
   "execution_count": 62,
   "metadata": {},
   "outputs": [
    {
     "data": {
      "text/plain": [
       "ModuleList(\n",
       "  (0): Embedding(15, 8)\n",
       "  (1): Embedding(5, 3)\n",
       "  (2): Embedding(2, 1)\n",
       "  (3): Embedding(4, 2)\n",
       ")"
      ]
     },
     "execution_count": 62,
     "metadata": {},
     "output_type": "execute_result"
    }
   ],
   "source": [
    "embed"
   ]
  },
  {
   "cell_type": "code",
   "execution_count": null,
   "metadata": {},
   "outputs": [],
   "source": []
  }
 ],
 "metadata": {
  "kernelspec": {
   "display_name": "Python 3",
   "language": "python",
   "name": "python3"
  },
  "language_info": {
   "codemirror_mode": {
    "name": "ipython",
    "version": 3
   },
   "file_extension": ".py",
   "mimetype": "text/x-python",
   "name": "python",
   "nbconvert_exporter": "python",
   "pygments_lexer": "ipython3",
   "version": "3.7.6"
  }
 },
 "nbformat": 4,
 "nbformat_minor": 4
}
